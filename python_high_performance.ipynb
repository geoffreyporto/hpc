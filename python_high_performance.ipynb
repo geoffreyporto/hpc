{
  "nbformat": 4,
  "nbformat_minor": 0,
  "metadata": {
    "colab": {
      "provenance": []
    },
    "kernelspec": {
      "name": "python3",
      "display_name": "Python 3"
    },
    "language_info": {
      "name": "python"
    }
  },
  "cells": [
    {
      "cell_type": "markdown",
      "source": [
        "##High Performance en Python\n",
        "\n",
        "##@ Author: Geoffrey Porto\n",
        "##Fecha: 21/05/2024"
      ],
      "metadata": {
        "id": "BFeBHlSnk3-p"
      }
    },
    {
      "cell_type": "code",
      "source": [
        "!pip install numba"
      ],
      "metadata": {
        "colab": {
          "base_uri": "https://localhost:8080/"
        },
        "id": "qNDEvuaqMK3Z",
        "outputId": "620f0561-b844-4ce1-99e1-db57551aa35a"
      },
      "execution_count": 1,
      "outputs": [
        {
          "output_type": "stream",
          "name": "stdout",
          "text": [
            "Requirement already satisfied: numba in /usr/local/lib/python3.10/dist-packages (0.58.1)\n",
            "Requirement already satisfied: llvmlite<0.42,>=0.41.0dev0 in /usr/local/lib/python3.10/dist-packages (from numba) (0.41.1)\n",
            "Requirement already satisfied: numpy<1.27,>=1.22 in /usr/local/lib/python3.10/dist-packages (from numba) (1.25.2)\n"
          ]
        }
      ]
    },
    {
      "cell_type": "code",
      "execution_count": 75,
      "metadata": {
        "id": "FAlxCLYgKy7f"
      },
      "outputs": [],
      "source": [
        "n = 10000\n",
        "\n",
        "def func_low_perf(n):\n",
        "  result = []\n",
        "  for a in range(n):\n",
        "    for b in range(n):\n",
        "      if (a+b)%11 == 0:\n",
        "        result.append((a,b))\n",
        "\n",
        "func_low_perf(n)\n"
      ]
    },
    {
      "cell_type": "code",
      "source": [
        "\n",
        "from numba import njit, jit\n",
        "\n",
        "'''\n",
        "Usamos el decorador @numba.njit para especificar que las funciones deben compilarse en código máquina,\n",
        "y uso el decorador @numba.njit(parallel=True) para especificar que la función func_high_perf debe estar en paralelo.\n",
        "'''\n",
        "@njit(parallel=True)\n",
        "#@numba.njit(parallel=True)\n",
        "def func_high_perf_in_paralells(n):\n",
        "  result = typed.List(numba.types.Tuple((numba.int64, numba.int64)))(n)\n",
        "  for a in range(n):\n",
        "    for b in range(n):\n",
        "      if (a+b)%11 == 0:\n",
        "        result.append((a,b))\n",
        "  return result\n",
        "\n",
        "func_high_perf_in_paralells.parallel_diagnostics(level=4)"
      ],
      "metadata": {
        "id": "vedlpiGSK49k"
      },
      "execution_count": 74,
      "outputs": []
    },
    {
      "cell_type": "code",
      "source": [],
      "metadata": {
        "id": "Iim6mXd-RIl4"
      },
      "execution_count": null,
      "outputs": []
    },
    {
      "cell_type": "code",
      "source": [
        "import timeit\n",
        "\n",
        "tiempo_numba = timeit.timeit(\"func_high_perf_in_paralells.parallel_diagnostics(level=4)\", globals=globals(),number=1)\n",
        "tiempo_numba_seg = tiempo_numba * 1e-5 #tiempo_numba_seg = tiempo_numba * 10**(-5)\n",
        "tiempo_numba_us = tiempo_numba * 1e6 #tiempo_numba_us = tiempo_numba * 10**(6)\n",
        "print(\"Tiempo de ejecución con Numba: {:} (segs)\".format(tiempo_numba_seg))\n",
        "print(f\"Equivale a : {tiempo_numba_seg:.15f} (μs) o {tiempo_numba_us:.6f} (μs)\")\n",
        "\n"
      ],
      "metadata": {
        "colab": {
          "base_uri": "https://localhost:8080/"
        },
        "id": "PAdrNLhjOThv",
        "outputId": "766989b1-0650-48cb-c8b8-848bd53537ca"
      },
      "execution_count": 157,
      "outputs": [
        {
          "output_type": "stream",
          "name": "stdout",
          "text": [
            "Tiempo de ejecución con Numba: 4.215100034343778e-10 (segs)\n",
            "Equivale a : 0.000000000421510 (μs) o 42.151000 (μs)\n"
          ]
        }
      ]
    },
    {
      "cell_type": "markdown",
      "source": [
        "###Calculo\n",
        "\n",
        "En notación científica, e-05 significa que el número debe multiplicarse por 10 elevado a la potencia negativa 5, lo que equivale a mover el punto decimal 5 lugares hacia la izquierda.\n",
        "Por lo tanto, 2.16e-05 segundos es igual a 0.0000216 segundos.\n",
        "2.16e-05 segundos * 10^6 = 21.6 microsegundos (μs)"
      ],
      "metadata": {
        "id": "kD-15RR3hclM"
      }
    },
    {
      "cell_type": "code",
      "source": [
        "tiempo_python = timeit.timeit(\"func_low_perf(n)\", globals=globals(),number=1)\n",
        "print(\"Tiempo de ejecución sin Numba: {:.2f} segs\".format(tiempo_python))"
      ],
      "metadata": {
        "colab": {
          "base_uri": "https://localhost:8080/"
        },
        "id": "tUQ0IWZqTdsp",
        "outputId": "248211b0-637b-468f-d05f-6a14949895b2"
      },
      "execution_count": 158,
      "outputs": [
        {
          "output_type": "stream",
          "name": "stdout",
          "text": [
            "Tiempo de ejecución sin Numba: 13.62 segs\n"
          ]
        }
      ]
    },
    {
      "cell_type": "markdown",
      "source": [
        "##Conclusiones\n",
        "\n",
        "En costo de implementanción y tiempo de compilación y ejecución, **Numba es la mejor solución para este caso.**\n",
        "\n",
        "He probado con Cython,  Shed Skin y f2py, lo cual, se tuve que adaptar el codigo fuente.\n",
        "\n",
        "Utilizando el PyPy no hay que cambiar el codigo fuente, apenas compilarlo."
      ],
      "metadata": {
        "id": "iH1d4S2wWt-i"
      }
    },
    {
      "cell_type": "code",
      "source": [],
      "metadata": {
        "id": "90CW9CyIP_Qw"
      },
      "execution_count": 77,
      "outputs": []
    }
  ]
}